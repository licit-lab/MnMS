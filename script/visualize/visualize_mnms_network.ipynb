{
 "cells": [
  {
   "cell_type": "code",
   "execution_count": null,
   "id": "9fb019df",
   "metadata": {},
   "outputs": [],
   "source": [
    "import os\n",
    "import argparse\n",
    "import json\n",
    "\n",
    "# please run command \"pip install pyvis\" in terminal if pyvis not installed\n",
    "from pyvis.network import Network"
   ]
  },
  {
   "cell_type": "code",
   "execution_count": null,
   "id": "5536e54f",
   "metadata": {},
   "outputs": [],
   "source": [
    "def extract_file(file):\n",
    "    json_file = open(file)\n",
    "    network = json.load(json_file)\n",
    "    json_file.close()\n",
    "\n",
    "    return network"
   ]
  },
  {
   "cell_type": "code",
   "execution_count": null,
   "id": "ee2b6797",
   "metadata": {
    "scrolled": true
   },
   "outputs": [],
   "source": [
    "# Pass your mnms json file here in parameter\n",
    "mnms_network = extract_file(\"lyon_mnms_gtfs.json\")\n",
    "\n",
    "roads = mnms_network.get(\"ROADS\")\n",
    "layers = mnms_network.get(\"LAYERS\")\n",
    "\n",
    "nodes = roads.get(\"NODES\")\n",
    "sections = roads.get(\"SECTIONS\")\n",
    "stops = roads.get(\"STOPS\")"
   ]
  },
  {
   "cell_type": "code",
   "execution_count": null,
   "id": "5e96af5b",
   "metadata": {},
   "outputs": [],
   "source": [
    "net = Network(height=\"800px\", width=\"100%\", notebook=True, filter_menu=True, cdn_resources=\"remote\")"
   ]
  },
  {
   "cell_type": "code",
   "execution_count": null,
   "id": "b16b77c3",
   "metadata": {},
   "outputs": [],
   "source": [
    "for id, node in nodes.items():\n",
    "    id_node = node[\"id\"]\n",
    "    if id_node not in stops:\n",
    "        x_node = float(node[\"position\"][0])\n",
    "        y_node = -float(node[\"position\"][1])\n",
    "        net.add_node(id_node, label=' ', title=id_node, x=x_node, y=y_node, size=2, color=\"grey\", group=\"CAR\")"
   ]
  },
  {
   "cell_type": "code",
   "execution_count": null,
   "id": "ee9750aa",
   "metadata": {},
   "outputs": [],
   "source": [
    "for layer in layers:\n",
    "    \n",
    "    if layer[\"VEH_TYPE\"] == \"mnms.vehicles.veh_type.Metro\":\n",
    "        lines = layer[\"LINES\"]\n",
    "        for line in lines:\n",
    "            line_stops = line[\"STOPS\"]          \n",
    "            for line_stop in line_stops:\n",
    "                stop = stops[line_stop]\n",
    "                id_stop = stop[\"id\"]\n",
    "                x_stop = float(stop[\"absolute_position\"][0])\n",
    "                y_stop = -float(stop[\"absolute_position\"][1])\n",
    "                net.add_node(id_stop, label=' ', title=id_stop, x=x_stop, y=y_stop, size=20, color=\"red\", group=\"METRO\")\n",
    "            for line_stop in line_stops:\n",
    "                stop = stops[line_stop]\n",
    "                stop_section = stop[\"section\"]\n",
    "                section = sections[stop_section]               \n",
    "                up_stop = section[\"upstream\"]\n",
    "                down_stop = section[\"downstream\"]\n",
    "                net.add_edge(up_stop, down_stop, title=stop_section, width=15, color=\"red\")\n",
    "    \n",
    "    if layer[\"VEH_TYPE\"] == \"mnms.vehicles.veh_type.Tram\":\n",
    "        lines = layer[\"LINES\"]\n",
    "        for line in lines:\n",
    "            line_stops = line[\"STOPS\"]          \n",
    "            for line_stop in line_stops:\n",
    "                stop = stops[line_stop]\n",
    "                id_stop = stop[\"id\"]\n",
    "                x_stop = float(stop[\"absolute_position\"][0])\n",
    "                y_stop = -float(stop[\"absolute_position\"][1])\n",
    "                net.add_node(id_stop, label=' ', title=id_stop, x=x_stop, y=y_stop, size=15, color=\"purple\", group=\"TRAM\")\n",
    "            for line_stop in line_stops:\n",
    "                stop = stops[line_stop]\n",
    "                stop_section = stop[\"section\"]\n",
    "                section = sections[stop_section]               \n",
    "                up_stop = section[\"upstream\"]\n",
    "                down_stop = section[\"downstream\"]\n",
    "                net.add_edge(up_stop, down_stop, title=stop_section, width=10, color=\"purple\")\n",
    "    \n",
    "    if layer[\"VEH_TYPE\"] == \"mnms.vehicles.veh_type.Bus\":\n",
    "        lines = layer[\"LINES\"]\n",
    "        for line in lines:\n",
    "            line_stops = line[\"STOPS\"]          \n",
    "            for line_stop in line_stops:\n",
    "                stop = stops[line_stop]\n",
    "                id_stop = stop[\"id\"]\n",
    "                x_stop = float(stop[\"absolute_position\"][0])\n",
    "                y_stop = -float(stop[\"absolute_position\"][1])\n",
    "                net.add_node(id_stop, label=' ', title=id_stop, x=x_stop, y=y_stop, size=5, color=\"green\", group=\"BUS\")\n",
    "            for line_stop in line_stops:\n",
    "                stop = stops[line_stop]\n",
    "                stop_section = stop[\"section\"]\n",
    "                section = sections[stop_section]               \n",
    "                up_stop = section[\"upstream\"]\n",
    "                down_stop = section[\"downstream\"]\n",
    "                net.add_edge(up_stop, down_stop, title=stop_section, width=1, color=\"green\")"
   ]
  },
  {
   "cell_type": "code",
   "execution_count": null,
   "id": "f11aca09",
   "metadata": {},
   "outputs": [],
   "source": [
    "for id, section in sections.items():\n",
    "    id_section = section[\"id\"]\n",
    "    upnode = section[\"upstream\"]\n",
    "    downnode = section[\"downstream\"]\n",
    "    if upnode not in stops and downnode not in stops:\n",
    "        net.add_edge(upnode, downnode, width=1, color=\"grey\")"
   ]
  },
  {
   "cell_type": "code",
   "execution_count": null,
   "id": "43b3ffa9",
   "metadata": {},
   "outputs": [],
   "source": [
    "net.toggle_physics(False)\n",
    "net.toggle_drag_nodes(False)\n",
    "net.show(\"lyon.html\")"
   ]
  },
  {
   "cell_type": "code",
   "execution_count": null,
   "id": "4c63451d",
   "metadata": {},
   "outputs": [],
   "source": []
  }
 ],
 "metadata": {
  "kernelspec": {
   "display_name": "Python 3 (ipykernel)",
   "language": "python",
   "name": "python3"
  },
  "language_info": {
   "codemirror_mode": {
    "name": "ipython",
    "version": 3
   },
   "file_extension": ".py",
   "mimetype": "text/x-python",
   "name": "python",
   "nbconvert_exporter": "python",
   "pygments_lexer": "ipython3",
   "version": "3.10.10"
  }
 },
 "nbformat": 4,
 "nbformat_minor": 5
}
