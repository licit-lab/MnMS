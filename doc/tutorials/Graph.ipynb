{
 "cells": [
  {
   "cell_type": "markdown",
   "id": "fbc8a307",
   "metadata": {},
   "source": [
    "# Graph"
   ]
  },
  {
   "cell_type": "markdown",
   "id": "abbc84c7",
   "metadata": {},
   "source": [
    "In this tutorial we introduce the notion of `MultiLayerGraph`, how to construct and manipulate it.\n",
    "\n",
    "`MultiLayerGraph` is made of two component, the `graph` and the `roads`. The first one is an multi layer oriented graph represensting the all the mobility services and their connections inside one connected graph, the second one is a physical descriptions of the roads inside your network."
   ]
  },
  {
   "cell_type": "markdown",
   "id": "786bb997",
   "metadata": {},
   "source": [
    "## Create a simple RoadDescriptor"
   ]
  },
  {
   "cell_type": "markdown",
   "id": "c62d09d3",
   "metadata": {},
   "source": [
    "### Instantiation"
   ]
  },
  {
   "cell_type": "code",
   "execution_count": 4,
   "id": "340dbcb6",
   "metadata": {},
   "outputs": [
    {
     "data": {
      "text/plain": [
       "<mnms.graph.road.RoadDescriptor at 0x125e025c0>"
      ]
     },
     "execution_count": 4,
     "metadata": {},
     "output_type": "execute_result"
    }
   ],
   "source": [
    "from mnms.graph.road import RoadDescriptor\n",
    "\n",
    "roads = RoadDescriptor()\n",
    "roads"
   ]
  },
  {
   "cell_type": "markdown",
   "id": "9ae314fc",
   "metadata": {},
   "source": [
    "### Registering nodes"
   ]
  },
  {
   "cell_type": "code",
   "execution_count": 5,
   "id": "9a033641",
   "metadata": {},
   "outputs": [
    {
     "data": {
      "text/plain": [
       "{'IN': RoadNode(id='IN', position=array([-50,   0])),\n",
       " '0': RoadNode(id='0', position=array([0, 0])),\n",
       " '1': RoadNode(id='1', position=array([100,   0])),\n",
       " '2': RoadNode(id='2', position=array([100, 100])),\n",
       " '3': RoadNode(id='3', position=array([  0, 100])),\n",
       " 'OUT': RoadNode(id='OUT', position=array([150, 100]))}"
      ]
     },
     "execution_count": 5,
     "metadata": {},
     "output_type": "execute_result"
    }
   ],
   "source": [
    "roads.register_node('IN', [-50, 0])\n",
    "roads.register_node('0', [0, 0])\n",
    "roads.register_node('1', [100, 0])\n",
    "roads.register_node('2', [100, 100])\n",
    "roads.register_node('3', [0, 100])\n",
    "roads.register_node('OUT', [150, 100]) \n",
    "\n",
    "roads.nodes"
   ]
  },
  {
   "cell_type": "markdown",
   "id": "f40b5f81",
   "metadata": {},
   "source": [
    "### Registering sections"
   ]
  },
  {
   "cell_type": "code",
   "execution_count": 6,
   "id": "89f21c2a",
   "metadata": {},
   "outputs": [
    {
     "data": {
      "text/plain": [
       "{'IN_0': RoadSection(id='IN_0', upstream='IN', downstream='0', length=50.0, zone=None),\n",
       " '0_1': RoadSection(id='0_1', upstream='0', downstream='1', length=100.0, zone=None),\n",
       " '1_2': RoadSection(id='1_2', upstream='1', downstream='2', length=100.0, zone=None),\n",
       " '0_3': RoadSection(id='0_3', upstream='0', downstream='3', length=100.0, zone=None),\n",
       " '3_2': RoadSection(id='3_2', upstream='3', downstream='2', length=100.0, zone=None),\n",
       " '2_OUT': RoadSection(id='2_OUT', upstream='2', downstream='OUT', length=50.0, zone=None)}"
      ]
     },
     "execution_count": 6,
     "metadata": {},
     "output_type": "execute_result"
    }
   ],
   "source": [
    "roads.register_section('IN_0', 'IN', '0')\n",
    "roads.register_section('0_1', '0', '1')\n",
    "roads.register_section('1_2', '1', '2')\n",
    "roads.register_section('0_3', '0', '3')\n",
    "roads.register_section('3_2', '3', '2')\n",
    "roads.register_section('2_OUT', '2', 'OUT')\n",
    "\n",
    "roads.sections"
   ]
  },
  {
   "cell_type": "markdown",
   "id": "559f0df9",
   "metadata": {},
   "source": [
    "### Registering stops"
   ]
  },
  {
   "cell_type": "code",
   "execution_count": 7,
   "id": "45782da7",
   "metadata": {},
   "outputs": [
    {
     "data": {
      "text/plain": [
       "{'S0': RoadStop(id='S0', section='IN_0', relative_position=0.4, absolute_position=array([-30.,   0.])),\n",
       " 'S1': RoadStop(id='S1', section='3_2', relative_position=0.75, absolute_position=array([ 75., 100.]))}"
      ]
     },
     "execution_count": 7,
     "metadata": {},
     "output_type": "execute_result"
    }
   ],
   "source": [
    "roads.register_stop('S0', 'IN_0', 0.4)\n",
    "roads.register_stop('S1', '3_2', 0.75)\n",
    "\n",
    "\n",
    "roads.stops"
   ]
  },
  {
   "cell_type": "markdown",
   "id": "c599bb2b",
   "metadata": {},
   "source": [
    "### Rendering"
   ]
  },
  {
   "cell_type": "code",
   "execution_count": 8,
   "id": "75010e18",
   "metadata": {},
   "outputs": [
    {
     "data": {
      "image/png": "[encoded data removed]",
      "text/plain": [
       "<Figure size 1600x900 with 1 Axes>"
      ]
     },
     "metadata": {},
     "output_type": "display_data"
    }
   ],
   "source": [
    "from mnms.tools.render import draw_roads\n",
    "import matplotlib.pyplot as plt\n",
    "\n",
    "fig, ax = plt.subplots(figsize=(16, 9))\n",
    "draw_roads(ax, roads, nodesize=7, linkwidth=2, label_size=10)"
   ]
  },
  {
   "cell_type": "markdown",
   "id": "340baf5d",
   "metadata": {},
   "source": [
    "## Add Layers and mobility services\n",
    "\n",
    "A Layer of the mobility graph is associated to a type of Vehicle, mobility services are associated to a layer. The Layer is a graph representation and the mobility service contains the logic for managing a fleet of Vehicle."
   ]
  },
  {
   "cell_type": "markdown",
   "id": "8aadafae",
   "metadata": {},
   "source": [
    "### Car layer with a personal car mobility service"
   ]
  },
  {
   "cell_type": "code",
   "execution_count": 9,
   "id": "5f20cc1a",
   "metadata": {},
   "outputs": [
    {
     "data": {
      "text/plain": [
       "{'PersonalVehicle': <mnms.mobility_service.personal_vehicle.PersonalMobilityService at 0x30e53ef20>}"
      ]
     },
     "execution_count": 9,
     "metadata": {},
     "output_type": "execute_result"
    }
   ],
   "source": [
    "from mnms.graph.layers import CarLayer\n",
    "from mnms.mobility_service.personal_vehicle import PersonalMobilityService\n",
    "\n",
    "SPEED_CAR = 10\n",
    "\n",
    "car_layer = CarLayer(roads,\n",
    "               default_speed=SPEED_CAR,\n",
    "               services=[PersonalMobilityService()])\n",
    "\n",
    "car_layer.create_node('CIN', 'IN')\n",
    "car_layer.create_node('C0', '0')\n",
    "car_layer.create_node('C1', '1')\n",
    "car_layer.create_node('C2', '2')\n",
    "car_layer.create_node('COUT', 'OUT')\n",
    "\n",
    "car_layer.create_link('CIN_C0', 'CIN', 'C0', {}, ['IN_0'])\n",
    "car_layer.create_link('C0_C1', 'C0', 'C1', {}, ['0_1'])\n",
    "car_layer.create_link('C1_C2', 'C1', 'C2', {}, ['1_2'])\n",
    "car_layer.create_link('C2_COUT', 'C2', 'COUT', {}, ['2_OUT'])\n",
    "\n",
    "car_layer.mobility_services"
   ]
  },
  {
   "cell_type": "markdown",
   "id": "e55ca78e-88a7-4a2a-9441-2c57ccc8305f",
   "metadata": {},
   "source": [
    "### Bus layer with a public transportmobility service"
   ]
  },
  {
   "cell_type": "code",
   "execution_count": 10,
   "id": "4fd5fc4e",
   "metadata": {},
   "outputs": [],
   "source": [
    "from mnms.graph.layers import PublicTransportLayer\n",
    "from mnms.mobility_service.public_transport import PublicTransportMobilityService\n",
    "from mnms.time import TimeTable, Dt\n",
    "from mnms.vehicles.veh_type import Bus\n",
    "\n",
    "SPEED_BUS = 5\n",
    "\n",
    "bus_service = PublicTransportMobilityService('BUS')\n",
    "bus_layer = PublicTransportLayer(roads, 'BUS', Bus, SPEED_BUS, services=[bus_service])\n",
    "\n",
    "bus_line = bus_layer.create_line('L1', ['S0', 'S1'], [['IN_0','0_3','3_2']], TimeTable.create_table_freq('07:00:00', '18:00:00', Dt(minutes=10)))\n"
   ]
  },
  {
   "cell_type": "markdown",
   "id": "47eceb1c-995c-4cef-801e-b831f3819788",
   "metadata": {},
   "source": [
    "### Origin destilation layer "
   ]
  },
  {
   "cell_type": "code",
   "execution_count": null,
   "id": "1c25228c-bcbb-4fff-acfd-5d70549247f9",
   "metadata": {},
   "outputs": [],
   "source": [
    "from mnms.generation.layers import generate_matching_origin_destination_layer\n",
    "odlayer = generate_matching_origin_destination_layer(roads)"
   ]
  },
  {
   "cell_type": "markdown",
   "id": "3ea55d60",
   "metadata": {},
   "source": [
    "### Add the mobility services and the od layer to the MultiModalGraph\n",
    "\n",
    "Then we add the two mobility services to the `MultiModalGraph`. And check that there is no duplicate in the nodes and links."
   ]
  },
  {
   "cell_type": "code",
   "execution_count": 13,
   "id": "076857db",
   "metadata": {},
   "outputs": [
    {
     "data": {
      "text/plain": [
       "{'CAR': <mnms.graph.layers.CarLayer at 0x110bd29b0>,\n",
       " 'BUS': <mnms.graph.layers.PublicTransportLayer at 0x30e5fba00>}"
      ]
     },
     "execution_count": 13,
     "metadata": {},
     "output_type": "execute_result"
    }
   ],
   "source": [
    "from mnms.graph.layers import MultiLayerGraph\n",
    "\n",
    "mmgraph = MultiLayerGraph([car_layer, bus_layer],\n",
    "                          odlayer,\n",
    "                          250)\n",
    "\n",
    "mmgraph.layers"
   ]
  },
  {
   "cell_type": "markdown",
   "id": "9a50e18f",
   "metadata": {},
   "source": [
    "## Save graph\n",
    "\n",
    "You can save the `MultiModalGraph` in a json format using the `io` module."
   ]
  },
  {
   "cell_type": "code",
   "execution_count": 14,
   "id": "81db7856",
   "metadata": {},
   "outputs": [],
   "source": [
    "from mnms.io.graph import save_graph\n",
    "\n",
    "save_graph(mmgraph, 'mmgraph.json')"
   ]
  },
  {
   "cell_type": "markdown",
   "id": "e93190ce",
   "metadata": {},
   "source": [
    "And reload it using the `load_graph` function:"
   ]
  },
  {
   "cell_type": "code",
   "execution_count": 15,
   "id": "a0708e20",
   "metadata": {},
   "outputs": [],
   "source": [
    "from mnms.io.graph import load_graph\n",
    "\n",
    "new_mmgraph = load_graph('mmgraph.json')\n"
   ]
  }
 ],
 "metadata": {
  "kernelspec": {
   "display_name": "Python 3 (ipykernel)",
   "language": "python",
   "name": "python3"
  },
  "language_info": {
   "codemirror_mode": {
    "name": "ipython",
    "version": 3
   },
   "file_extension": ".py",
   "mimetype": "text/x-python",
   "name": "python",
   "nbconvert_exporter": "python",
   "pygments_lexer": "ipython3",
   "version": "3.10.14"
  }
 },
 "nbformat": 4,
 "nbformat_minor": 5
}
