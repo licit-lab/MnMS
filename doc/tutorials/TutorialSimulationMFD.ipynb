{
 "cells": [
  {
   "cell_type": "markdown",
   "id": "7fdfe716",
   "metadata": {},
   "source": [
    "# Simulation MFD\n",
    "\n",
    "In this tutorial we introduce a full demonstration of a simulation with `mnms` from the creation of the `MultiModalGraph` to a simulation run with the `MFDFlow` motor.\n",
    "A quick demonstration of results analysis is also made at the end of the notebook."
   ]
  },
  {
   "cell_type": "markdown",
   "id": "2e22937f",
   "metadata": {},
   "source": [
    "## Simulation"
   ]
  },
  {
   "cell_type": "markdown",
   "id": "65801a65",
   "metadata": {},
   "source": [
    "### MultiModalGraph"
   ]
  },
  {
   "cell_type": "code",
   "execution_count": null,
   "id": "08a1349b",
   "metadata": {},
   "outputs": [],
   "source": [
    "from mnms.graph import MultiModalGraph\n",
    "from mnms.graph.algorithms import walk_connect\n",
    "from mnms.graph.generation import create_grid_graph\n",
    "from mnms.mobility_service import BaseMobilityService\n",
    "\n",
    "mmgraph = create_grid_graph(10, 5, 1000)\n",
    "mmgraph.add_zone('ZONE', [l.id for l in mmgraph.flow_graph.links.values()])\n",
    "\n",
    "car = BaseMobilityService('car', 10)\n",
    "bus = BaseMobilityService('bus', 10)\n",
    "\n",
    "for n in mmgraph.flow_graph.nodes.keys():\n",
    "    car.add_node('CAR_'+n, n)\n",
    "    bus.add_node('BUS_'+n, n)\n",
    "\n",
    "for l in mmgraph.flow_graph.links.values():\n",
    "    uid = l.upstream_node\n",
    "    did = l.downstream_node\n",
    "    car.add_link('CAR_'+uid+'_'+did, 'CAR_'+uid, 'CAR_'+did, {'length': 1000, 'time':1000/car.default_speed}, [l.id])\n",
    "    bus.add_link('BUS_' + uid + '_' + did, 'BUS_' + uid, 'BUS_' + did, {'length': 1000, 'time':1000/bus.default_speed}, [l.id])\n",
    "\n",
    "mmgraph.add_mobility_service(car)\n",
    "mmgraph.add_mobility_service(bus)\n",
    "mmgraph.mobility_graph.check()\n",
    "\n",
    "walk_connect(mmgraph, 1)"
   ]
  },
  {
   "cell_type": "code",
   "execution_count": null,
   "id": "e4863e65",
   "metadata": {},
   "outputs": [],
   "source": [
    "from mnms.tools.render import draw_multimodal_graph\n",
    "import matplotlib.pyplot as plt\n",
    "\n",
    "fig, ax = plt.subplots(figsize=(16, 9))\n",
    "draw_multimodal_graph(ax, mmgraph, nodesize=5, linkwidth=2, dy=2000)"
   ]
  },
  {
   "cell_type": "markdown",
   "id": "606826f4",
   "metadata": {},
   "source": [
    "### Demand"
   ]
  },
  {
   "cell_type": "code",
   "execution_count": null,
   "id": "226484fd",
   "metadata": {},
   "outputs": [],
   "source": [
    "from mnms.demand.generation import create_random_demand\n",
    "\n",
    "demand = create_random_demand(mmgraph, \"07:00:00\", \"10:00:00\", cost_path='length', min_cost=5000, seed=42)"
   ]
  },
  {
   "cell_type": "markdown",
   "id": "b8a0f46f",
   "metadata": {},
   "source": [
    "### Travel decision model"
   ]
  },
  {
   "cell_type": "code",
   "execution_count": null,
   "id": "3a7891b1",
   "metadata": {},
   "outputs": [],
   "source": [
    "from mnms.travel_decision import LogitDecisionModel\n",
    "travel_decision = LogitDecisionModel(mmgraph, outfile=\"results/path.csv\")"
   ]
  },
  {
   "cell_type": "markdown",
   "id": "44101207",
   "metadata": {},
   "source": [
    "### Flow motor"
   ]
  },
  {
   "cell_type": "code",
   "execution_count": null,
   "id": "7dc5765b",
   "metadata": {},
   "outputs": [],
   "source": [
    "from mnms.flow.MFD import Reservoir, MFDFlow\n",
    "\n",
    "def res_fct(dict_accumulations):\n",
    "    V_car = 11.5 * (1 - (dict_accumulations['car'] + dict_accumulations['bus']) / 500)\n",
    "    V_car = max(V_car, 0.001)\n",
    "    V_bus = V_car/2\n",
    "    dict_speeds = {'car': V_car, 'bus': V_bus}\n",
    "    return dict_speeds\n",
    "\n",
    "\n",
    "reservoir = Reservoir.fromZone(mmgraph, 'ZONE', res_fct)\n",
    "\n",
    "flow_motor = MFDFlow(outfile=\"results/flow.csv\")\n",
    "flow_motor.add_reservoir(reservoir)"
   ]
  },
  {
   "cell_type": "markdown",
   "id": "6a83c523",
   "metadata": {},
   "source": [
    "### Supervisor"
   ]
  },
  {
   "cell_type": "code",
   "execution_count": null,
   "id": "be224510",
   "metadata": {},
   "outputs": [],
   "source": [
    "from mnms.simulation import Supervisor\n",
    "from mnms.tools.time import Time, Dt\n",
    "\n",
    "supervisor = Supervisor(graph=mmgraph,\n",
    "                        flow_motor=flow_motor,\n",
    "                        demand=demand,\n",
    "                        decision_model=travel_decision,\n",
    "                        outfile=\"results/travel_time_link.csv\")\n",
    "\n",
    "supervisor.run(Time('06:55:00'), \n",
    "               Time('10:20:00'), \n",
    "               Dt(minutes=1), \n",
    "               10)"
   ]
  },
  {
   "cell_type": "markdown",
   "id": "0cb5310f",
   "metadata": {},
   "source": [
    "## Result analysis"
   ]
  },
  {
   "cell_type": "code",
   "execution_count": null,
   "id": "4ae56330",
   "metadata": {},
   "outputs": [],
   "source": [
    "import pandas as pd\n",
    "\n",
    "flow_result = pd.read_csv('results/flow.csv', sep=';')\n",
    "flow_result"
   ]
  },
  {
   "cell_type": "code",
   "execution_count": null,
   "id": "b9351bac",
   "metadata": {},
   "outputs": [],
   "source": [
    "flow_result_bus = flow_result[flow_result['MODE']=='bus']\n",
    "flow_result_car = flow_result[flow_result['MODE']=='car']"
   ]
  },
  {
   "cell_type": "code",
   "execution_count": null,
   "id": "3e08119a",
   "metadata": {},
   "outputs": [],
   "source": [
    "import matplotlib.pyplot as plt\n",
    "\n",
    "fig, ax = plt.subplots(figsize=(16, 9))\n",
    "\n",
    "ax.plot(flow_result_bus['TIME'].to_list(), flow_result_bus['ACCUMULATION'].to_list(), 'r+-', label='BUS')\n",
    "ax.plot(flow_result_car['TIME'].to_list(), flow_result_car['ACCUMULATION'].to_list(), 'b+-', label='CAR')\n",
    "ax.xaxis.set_major_locator(plt.MaxNLocator(20))\n",
    "plt.grid()\n",
    "plt.legend()\n",
    "fig.autofmt_xdate()"
   ]
  }
 ],
 "metadata": {
  "kernelspec": {
   "display_name": "Python 3 (ipykernel)",
   "language": "python",
   "name": "python3"
  },
  "language_info": {
   "codemirror_mode": {
    "name": "ipython",
    "version": 3
   },
   "file_extension": ".py",
   "mimetype": "text/x-python",
   "name": "python",
   "nbconvert_exporter": "python",
   "pygments_lexer": "ipython3",
   "version": "3.9.9"
  }
 },
 "nbformat": 4,
 "nbformat_minor": 5
}
