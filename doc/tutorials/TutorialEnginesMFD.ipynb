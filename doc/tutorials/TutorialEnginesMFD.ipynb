{
 "cells": [
  {
   "cell_type": "markdown",
   "id": "015e8d5e",
   "metadata": {},
   "source": [
    "# MFD engines\n",
    "\n",
    "This tutorial details the trip-based MFD engines provided by the packages MnMs. It focuses on the tools MFDFlow and MFDFlowEvent to compute the travel times. The example features two users in a two-mode two-reservoir setting."
   ]
  },
  {
   "cell_type": "markdown",
   "id": "c7cd3520",
   "metadata": {},
   "source": [
    "## Design of a graph"
   ]
  },
  {
   "cell_type": "code",
   "execution_count": 1,
   "id": "4c1db8ac",
   "metadata": {},
   "outputs": [],
   "source": [
    "from mnms.graph.core import MultiModalGraph\n",
    "from mnms.mobility_service.base import BaseMobilityService\n",
    "\n",
    "mmgraph = MultiModalGraph()\n",
    "flow_graph = mmgraph.flow_graph\n",
    "\n",
    "flow_graph.add_node('0', [0, 0])\n",
    "flow_graph.add_node('1', [0, 40000])\n",
    "flow_graph.add_node('2', [1200, 0])\n",
    "flow_graph.add_node('3', [1400, 0])\n",
    "flow_graph.add_node('4', [3400, 0])\n",
    "\n",
    "flow_graph.add_link('0_1', '0', '1')\n",
    "flow_graph.add_link('0_2', '0', '2')\n",
    "flow_graph.add_link('2_3', '2', '3')\n",
    "flow_graph.add_link('3_4', '3', '4')\n",
    "\n",
    "# Define the two reservoirs in the graph\n",
    "mmgraph.add_zone('res1', ['0_1', '0_2', '2_3'])\n",
    "mmgraph.add_zone('res2', ['3_4'])\n",
    "\n",
    "car = BaseMobilityService('car', 10)\n",
    "car.add_node('C0', '0')\n",
    "car.add_node('C1', '1')\n",
    "car.add_node('C2', '2')\n",
    "\n",
    "car.add_link('C0_C1', 'C0', 'C1', costs={'length':40000}, reference_links=['0_1'])\n",
    "car.add_link('C0_C2', 'C0', 'C2', costs={'length':1200}, reference_links=['0_2'])\n",
    "\n",
    "bus = BaseMobilityService('bus', 10)\n",
    "bus.add_node('B2', '2')\n",
    "bus.add_node('B3', '3')\n",
    "bus.add_node('B4', '4')\n",
    "\n",
    "bus.add_link('B2_B3', 'B2', 'B3', costs={'length':200}, reference_links=['2_3'])\n",
    "bus.add_link('B3_B4', 'B3', 'B4', costs={'length':2000}, reference_links=['3_4'])\n",
    "\n",
    "mmgraph.add_mobility_service(bus)\n",
    "mmgraph.add_mobility_service(car)\n",
    "\n",
    "mmgraph.connect_mobility_service('CAR_BUS', 'C2', 'B2', costs={'length':0, 'time':0})\n"
   ]
  },
  {
   "cell_type": "markdown",
   "id": "6aab9938",
   "metadata": {},
   "source": [
    "## Design of the two reservoirs"
   ]
  },
  {
   "cell_type": "code",
   "execution_count": 2,
   "id": "bb3a0721",
   "metadata": {},
   "outputs": [],
   "source": [
    "from mnms.flow.MFD import Reservoir\n",
    "\n",
    "# Define the traffic dynamics of the two reservoirs\n",
    "def res_fct1(dict_accumulations):\n",
    "            v_car = 10 * (1 - (dict_accumulations['car'] + 2*dict_accumulations['bus']) / 80)\n",
    "            v_car = max(v_car, 0.001)\n",
    "            v_bus = v_car / 2\n",
    "            dict_speeds = {'car': v_car, 'bus': v_bus}\n",
    "            return dict_speeds\n",
    "\n",
    "def res_fct2(dict_accumulations):\n",
    "    v_car = 12 * (1 - (dict_accumulations['car'] + dict_accumulations['bus']) / 50)\n",
    "    v_car = max(v_car, 0.001)\n",
    "    v_bus = v_car / 3\n",
    "    dict_speeds = {'car': v_car, 'bus': v_bus}\n",
    "    return dict_speeds\n",
    "\n",
    "res1 = Reservoir('res1', ['car', 'bus'], res_fct1)\n",
    "res2 = Reservoir('res2', ['car', 'bus'], res_fct2)\n"
   ]
  },
  {
   "cell_type": "markdown",
   "id": "0ef9ddf3",
   "metadata": {},
   "source": [
    "## Create users and affect a path"
   ]
  },
  {
   "cell_type": "code",
   "execution_count": 3,
   "id": "a449101d",
   "metadata": {},
   "outputs": [
    {
     "data": {
      "text/plain": [
       "40000"
      ]
     },
     "execution_count": 3,
     "metadata": {},
     "output_type": "execute_result"
    }
   ],
   "source": [
    "from mnms.demand.user import User\n",
    "from mnms.graph.shortest_path import compute_shortest_path\n",
    "from mnms.tools.time import Time, Dt\n",
    "\n",
    "user1 = User('1', '0', '4', Time.fromSeconds(100), scale_factor=2)\n",
    "user2 = User('2', '0', '1', Time.fromSeconds(110), scale_factor=4)\n",
    "\n",
    "compute_shortest_path(mmgraph, user1, cost='length')\n",
    "compute_shortest_path(mmgraph, user2, cost='length')"
   ]
  },
  {
   "cell_type": "markdown",
   "id": "22f65f30",
   "metadata": {},
   "source": [
    "## Create the MFD Flow object"
   ]
  },
  {
   "cell_type": "code",
   "execution_count": 4,
   "id": "c9f962bd",
   "metadata": {},
   "outputs": [],
   "source": [
    "from mnms.flow.MFD import MFDFlow\n",
    "\n",
    "mfd_flow = MFDFlow(outfile=\"results/flow_EnginesMFD.csv\")\n",
    "mfd_flow.add_reservoir(res1)\n",
    "mfd_flow.add_reservoir(res2)\n",
    "mfd_flow.set_graph(mmgraph)"
   ]
  },
  {
   "cell_type": "markdown",
   "id": "b9da7c4b",
   "metadata": {},
   "source": [
    "## Run simulation"
   ]
  },
  {
   "cell_type": "code",
   "execution_count": 5,
   "id": "8d5639bb",
   "metadata": {},
   "outputs": [],
   "source": [
    "dt = Dt(seconds=30)\n",
    "nb_steps = 100\n",
    "\n",
    "mfd_flow.initialize()\n",
    "mfd_flow._tcurrent = Time.fromSeconds(0)\n",
    "for step in range(nb_steps):\n",
    "    if mfd_flow._tcurrent < Time.fromSeconds(100) < mfd_flow._tcurrent.add_time(dt):\n",
    "        mfd_flow.step(dt.to_seconds(), [user1, user2])\n",
    "    else:\n",
    "        mfd_flow.step(dt.to_seconds(), [])\n",
    "    mfd_flow.update_time(dt)\n",
    "    mfd_flow.write_result(step_affectation=0, step_flow=step)"
   ]
  },
  {
   "cell_type": "markdown",
   "id": "5412e145",
   "metadata": {},
   "source": [
    "## Create the MFD Flow Event object"
   ]
  },
  {
   "cell_type": "code",
   "execution_count": 6,
   "id": "c8c9a14b",
   "metadata": {},
   "outputs": [],
   "source": [
    "from mnms.flow.MFD_event import MFDFlowEvent\n",
    "\n",
    "mfd_flow_event = MFDFlowEvent(outfile=\"results/flow_EnginesMFD_event.csv\")\n",
    "res1 = Reservoir('res1', ['car', 'bus'], res_fct1)\n",
    "res2 = Reservoir('res2', ['car', 'bus'], res_fct2)\n",
    "mfd_flow_event.add_reservoir(res1)\n",
    "mfd_flow_event.add_reservoir(res2)\n",
    "mfd_flow_event.set_graph(mmgraph)"
   ]
  },
  {
   "cell_type": "markdown",
   "id": "876a235e",
   "metadata": {},
   "source": [
    "## Run event-based simulation"
   ]
  },
  {
   "cell_type": "code",
   "execution_count": 7,
   "id": "0cd307a2",
   "metadata": {},
   "outputs": [],
   "source": [
    "mfd_flow_event.initialize()\n",
    "mfd_flow_event._tcurrent = Time.fromSeconds(0)\n",
    "for step in range(nb_steps):\n",
    "    if mfd_flow_event._tcurrent < Time.fromSeconds(100) < mfd_flow_event._tcurrent.add_time(dt):\n",
    "        mfd_flow_event.step(dt, [user1, user2])\n",
    "    else:\n",
    "        mfd_flow_event.step(dt, [])\n",
    "    mfd_flow_event.update_time(dt)\n",
    "    mfd_flow_event.write_result(step_affectation=0, step_flow=step)"
   ]
  },
  {
   "cell_type": "markdown",
   "id": "54b930ba",
   "metadata": {},
   "source": [
    "## Compare results"
   ]
  },
  {
   "cell_type": "code",
   "execution_count": 8,
   "id": "81bf0b2d",
   "metadata": {},
   "outputs": [],
   "source": [
    "import pandas as pd\n",
    "\n",
    "flow_result = pd.read_csv('results/flow_EnginesMFD.csv', sep=';')\n",
    "flow_result_event = pd.read_csv('results/flow_EnginesMFD_event.csv', sep=';')"
   ]
  },
  {
   "cell_type": "code",
   "execution_count": 9,
   "id": "34c90f82",
   "metadata": {},
   "outputs": [
    {
     "data": {
      "text/html": [
       "<div>\n",
       "<style scoped>\n",
       "    .dataframe tbody tr th:only-of-type {\n",
       "        vertical-align: middle;\n",
       "    }\n",
       "\n",
       "    .dataframe tbody tr th {\n",
       "        vertical-align: top;\n",
       "    }\n",
       "\n",
       "    .dataframe thead th {\n",
       "        text-align: right;\n",
       "    }\n",
       "</style>\n",
       "<table border=\"1\" class=\"dataframe\">\n",
       "  <thead>\n",
       "    <tr style=\"text-align: right;\">\n",
       "      <th></th>\n",
       "      <th>AFFECTATION_STEP</th>\n",
       "      <th>FLOW_STEP</th>\n",
       "      <th>TIME</th>\n",
       "      <th>RESERVOIR</th>\n",
       "      <th>MODE</th>\n",
       "      <th>SPEED</th>\n",
       "      <th>ACCUMULATION</th>\n",
       "    </tr>\n",
       "  </thead>\n",
       "  <tbody>\n",
       "    <tr>\n",
       "      <th>0</th>\n",
       "      <td>0</td>\n",
       "      <td>0</td>\n",
       "      <td>00:00:30.00</td>\n",
       "      <td>res1</td>\n",
       "      <td>car</td>\n",
       "      <td>10.00</td>\n",
       "      <td>0</td>\n",
       "    </tr>\n",
       "    <tr>\n",
       "      <th>1</th>\n",
       "      <td>0</td>\n",
       "      <td>0</td>\n",
       "      <td>00:00:30.00</td>\n",
       "      <td>res1</td>\n",
       "      <td>bus</td>\n",
       "      <td>5.00</td>\n",
       "      <td>0</td>\n",
       "    </tr>\n",
       "    <tr>\n",
       "      <th>2</th>\n",
       "      <td>0</td>\n",
       "      <td>0</td>\n",
       "      <td>00:00:30.00</td>\n",
       "      <td>res2</td>\n",
       "      <td>car</td>\n",
       "      <td>12.00</td>\n",
       "      <td>0</td>\n",
       "    </tr>\n",
       "    <tr>\n",
       "      <th>3</th>\n",
       "      <td>0</td>\n",
       "      <td>0</td>\n",
       "      <td>00:00:30.00</td>\n",
       "      <td>res2</td>\n",
       "      <td>bus</td>\n",
       "      <td>4.00</td>\n",
       "      <td>0</td>\n",
       "    </tr>\n",
       "    <tr>\n",
       "      <th>4</th>\n",
       "      <td>0</td>\n",
       "      <td>1</td>\n",
       "      <td>00:01:00.00</td>\n",
       "      <td>res1</td>\n",
       "      <td>car</td>\n",
       "      <td>10.00</td>\n",
       "      <td>0</td>\n",
       "    </tr>\n",
       "    <tr>\n",
       "      <th>...</th>\n",
       "      <td>...</td>\n",
       "      <td>...</td>\n",
       "      <td>...</td>\n",
       "      <td>...</td>\n",
       "      <td>...</td>\n",
       "      <td>...</td>\n",
       "      <td>...</td>\n",
       "    </tr>\n",
       "    <tr>\n",
       "      <th>237</th>\n",
       "      <td>0</td>\n",
       "      <td>59</td>\n",
       "      <td>00:30:00.00</td>\n",
       "      <td>res1</td>\n",
       "      <td>bus</td>\n",
       "      <td>4.75</td>\n",
       "      <td>0</td>\n",
       "    </tr>\n",
       "    <tr>\n",
       "      <th>238</th>\n",
       "      <td>0</td>\n",
       "      <td>59</td>\n",
       "      <td>00:30:00.00</td>\n",
       "      <td>res2</td>\n",
       "      <td>car</td>\n",
       "      <td>12.00</td>\n",
       "      <td>0</td>\n",
       "    </tr>\n",
       "    <tr>\n",
       "      <th>239</th>\n",
       "      <td>0</td>\n",
       "      <td>59</td>\n",
       "      <td>00:30:00.00</td>\n",
       "      <td>res2</td>\n",
       "      <td>bus</td>\n",
       "      <td>4.00</td>\n",
       "      <td>0</td>\n",
       "    </tr>\n",
       "    <tr>\n",
       "      <th>240</th>\n",
       "      <td>0</td>\n",
       "      <td>60</td>\n",
       "      <td>00:30:30.00</td>\n",
       "      <td>res1</td>\n",
       "      <td>car</td>\n",
       "      <td>9.50</td>\n",
       "      <td>4</td>\n",
       "    </tr>\n",
       "    <tr>\n",
       "      <th>241</th>\n",
       "      <td>0</td>\n",
       "      <td>60</td>\n",
       "      <td>00:30:30.00</td>\n",
       "      <td>res1</td>\n",
       "      <td>bus</td>\n",
       "      <td>4.75</td>\n",
       "      <td>0</td>\n",
       "    </tr>\n",
       "  </tbody>\n",
       "</table>\n",
       "<p>242 rows × 7 columns</p>\n",
       "</div>"
      ],
      "text/plain": [
       "     AFFECTATION_STEP  FLOW_STEP         TIME RESERVOIR MODE  SPEED  \\\n",
       "0                   0          0  00:00:30.00      res1  car  10.00   \n",
       "1                   0          0  00:00:30.00      res1  bus   5.00   \n",
       "2                   0          0  00:00:30.00      res2  car  12.00   \n",
       "3                   0          0  00:00:30.00      res2  bus   4.00   \n",
       "4                   0          1  00:01:00.00      res1  car  10.00   \n",
       "..                ...        ...          ...       ...  ...    ...   \n",
       "237                 0         59  00:30:00.00      res1  bus   4.75   \n",
       "238                 0         59  00:30:00.00      res2  car  12.00   \n",
       "239                 0         59  00:30:00.00      res2  bus   4.00   \n",
       "240                 0         60  00:30:30.00      res1  car   9.50   \n",
       "241                 0         60  00:30:30.00      res1  bus   4.75   \n",
       "\n",
       "     ACCUMULATION  \n",
       "0               0  \n",
       "1               0  \n",
       "2               0  \n",
       "3               0  \n",
       "4               0  \n",
       "..            ...  \n",
       "237             0  \n",
       "238             0  \n",
       "239             0  \n",
       "240             4  \n",
       "241             0  \n",
       "\n",
       "[242 rows x 7 columns]"
      ]
     },
     "execution_count": 9,
     "metadata": {},
     "output_type": "execute_result"
    }
   ],
   "source": [
    "flow_result"
   ]
  },
  {
   "cell_type": "code",
   "execution_count": 10,
   "id": "a5177c7c",
   "metadata": {},
   "outputs": [],
   "source": [
    "flow_result_bus1 = flow_result[(flow_result['MODE']=='bus') & (flow_result['RESERVOIR']=='res1')]\n",
    "flow_result_bus1_event = flow_result_event[(flow_result_event['MODE']=='bus') & (flow_result_event['RESERVOIR']=='res1')]\n",
    "flow_result_car1 = flow_result[(flow_result['MODE']=='car')& (flow_result['RESERVOIR']=='res1')]\n",
    "flow_result_car1_event = flow_result_event[(flow_result_event['MODE']=='car')& (flow_result_event['RESERVOIR']=='res1')]\n",
    "\n",
    "flow_result_bus2 = flow_result[(flow_result['MODE']=='bus') & (flow_result['RESERVOIR']=='res2')]\n",
    "flow_result_bus2_event = flow_result_event[(flow_result_event['MODE']=='bus') & (flow_result_event['RESERVOIR']=='res2')]\n",
    "flow_result_car2 = flow_result[(flow_result['MODE']=='car')& (flow_result['RESERVOIR']=='res2')]\n",
    "flow_result_car2_event = flow_result_event[(flow_result_event['MODE']=='car')& (flow_result_event['RESERVOIR']=='res2')]"
   ]
  },
  {
   "cell_type": "code",
   "execution_count": 11,
   "id": "42e31a58",
   "metadata": {},
   "outputs": [
    {
     "data": {
      "image/png": "[encoded data removed]",
      "text/plain": [
       "<Figure size 1152x648 with 4 Axes>"
      ]
     },
     "metadata": {
      "needs_background": "light"
     },
     "output_type": "display_data"
    }
   ],
   "source": [
    "import matplotlib.pyplot as plt\n",
    "\n",
    "fig, (ax1, ax2, ax3, ax4) = plt.subplots(4, figsize=(16, 9))\n",
    "\n",
    "#ax.plot(flow_result_bus1['TIME'].to_list(), flow_result_bus1['ACCUMULATION'].to_list(), 'r+-', label='BUS1')\n",
    "#ax.plot(flow_result_bus1_event['TIME'].to_list(), flow_result_bus1_event['ACCUMULATION'].to_list(), 'm*:', label='BUS1-event')\n",
    "ax1.plot(flow_result_car1['TIME'].to_list(), flow_result_car1['ACCUMULATION'].to_list(), 'b+-', label='CAR1')\n",
    "ax1.plot(flow_result_car1_event['TIME'].to_list(), flow_result_car1_event['ACCUMULATION'].to_list(), 'g*:', label='CAR1-event')\n",
    "ax1.xaxis.set_major_locator(plt.MaxNLocator(20))\n",
    "ax1.grid()\n",
    "ax1.legend()\n",
    "\n",
    "ax2.plot(flow_result_car2['TIME'].to_list(), flow_result_car2['ACCUMULATION'].to_list(), 'b+-', label='CAR2')\n",
    "ax2.plot(flow_result_car2_event['TIME'].to_list(), flow_result_car2_event['ACCUMULATION'].to_list(), 'g*:', label='CAR2-event')\n",
    "ax2.xaxis.set_major_locator(plt.MaxNLocator(20))\n",
    "ax2.grid()\n",
    "ax2.legend()\n",
    "\n",
    "ax3.plot(flow_result_bus1['TIME'].to_list(), flow_result_bus1['ACCUMULATION'].to_list(), 'b+-', label='BUS1')\n",
    "ax3.plot(flow_result_bus1_event['TIME'].to_list(), flow_result_bus1_event['ACCUMULATION'].to_list(), 'g*:', label='BUS1-event')\n",
    "ax3.xaxis.set_major_locator(plt.MaxNLocator(20))\n",
    "ax3.grid()\n",
    "ax3.legend()\n",
    "\n",
    "ax4.plot(flow_result_bus2['TIME'].to_list(), flow_result_bus2['ACCUMULATION'].to_list(), 'b+-', label='BUS2')\n",
    "ax4.plot(flow_result_bus2_event['TIME'].to_list(), flow_result_bus2_event['ACCUMULATION'].to_list(), 'g*:', label='BUS2-event')\n",
    "ax4.xaxis.set_major_locator(plt.MaxNLocator(20))\n",
    "ax4.grid()\n",
    "ax4.legend()\n",
    "fig.autofmt_xdate()"
   ]
  },
  {
   "cell_type": "code",
   "execution_count": 12,
   "id": "fcbf99c5",
   "metadata": {},
   "outputs": [
    {
     "data": {
      "text/plain": [
       "30.0"
      ]
     },
     "execution_count": 12,
     "metadata": {},
     "output_type": "execute_result"
    }
   ],
   "source": [
    "dt.to_seconds()"
   ]
  },
  {
   "cell_type": "code",
   "execution_count": null,
   "id": "1640d300",
   "metadata": {},
   "outputs": [],
   "source": []
  },
  {
   "cell_type": "code",
   "execution_count": null,
   "id": "2c5beae1",
   "metadata": {},
   "outputs": [],
   "source": []
  },
  {
   "cell_type": "code",
   "execution_count": null,
   "id": "d50fbb90",
   "metadata": {},
   "outputs": [],
   "source": []
  }
 ],
 "metadata": {
  "kernelspec": {
   "display_name": "Python 3 (ipykernel)",
   "language": "python",
   "name": "python3"
  },
  "language_info": {
   "codemirror_mode": {
    "name": "ipython",
    "version": 3
   },
   "file_extension": ".py",
   "mimetype": "text/x-python",
   "name": "python",
   "nbconvert_exporter": "python",
   "pygments_lexer": "ipython3",
   "version": "3.9.7"
  },
  "toc": {
   "base_numbering": 1,
   "nav_menu": {},
   "number_sections": true,
   "sideBar": true,
   "skip_h1_title": false,
   "title_cell": "Table of Contents",
   "title_sidebar": "Contents",
   "toc_cell": false,
   "toc_position": {},
   "toc_section_display": true,
   "toc_window_display": true
  }
 },
 "nbformat": 4,
 "nbformat_minor": 5
}
